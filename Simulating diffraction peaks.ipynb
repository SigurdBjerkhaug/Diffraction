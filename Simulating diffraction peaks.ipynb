{
 "cells": [
  {
   "cell_type": "code",
   "execution_count": 1,
   "metadata": {},
   "outputs": [],
   "source": [
    "import numpy as np\n",
    "from matplotlib import pyplot as plt"
   ]
  },
  {
   "cell_type": "markdown",
   "metadata": {},
   "source": [
    "## Define inputs\n",
    "First simulation will be CsCl, which has a cubic lattice and lattice parameter a = 0.4217 nm\n",
    "\n",
    "Its motif is Cs(0, 0, 0) and Cl(1/2, 1/2, 1/2)\n",
    "\n",
    "one should expect all peaks to be visible and equally spaced out"
   ]
  },
  {
   "cell_type": "markdown",
   "metadata": {},
   "source": [
    "## Find lattice spacing in reciprocal space"
   ]
  },
  {
   "cell_type": "code",
   "execution_count": null,
   "metadata": {},
   "outputs": [],
   "source": []
  },
  {
   "cell_type": "markdown",
   "metadata": {},
   "source": [
    "## Relating N to lattice parameters"
   ]
  },
  {
   "cell_type": "code",
   "execution_count": 2,
   "metadata": {},
   "outputs": [],
   "source": [
    "N = {1 : np.array([1,0,0]), 2 : np.array([1, 1, 0]), 3 : np.array([1, 1, 1]), 4 : np.array([2, 0, 0]), 5 : np.array([2, 1, 0]), 6 : np.array([2, 1, 1]), 8 : np.array([2, 2, 0]),\n",
    "         9 : np.array([3, 0, 0]), 10 : np.array([3, 1, 0]), 11 : np.array([3, 1, 1]), 12 : np.array([2, 2, 2]), 13 : np.array([3, 2, 0]) , 14 : [3, 2, 1], 16 : np.array([4, 0, 0]),\n",
    "         17 : np.array([4, 1, 0]), 18 : np.array([4, 1, 1]), 19 : np.array([3, 3, 1]), 20 : np.array([4, 2, 0]), 21 : np.array([4, 2, 1]), 22 : np.array([3, 3, 2]) , 24 : np.array([4, 2, 2]),\n",
    "    25 : np.array([4, 3, 0]), 26 : np.array([4, 3, 1]), 27 : np.array([3, 3, 3])}\n",
    "\n",
    "exceptions = [0, 7, 15, 23]"
   ]
  },
  {
   "cell_type": "markdown",
   "metadata": {},
   "source": [
    "## Figure out structure factor\n",
    "\n",
    "There will be systematic abscences where $ F_{h k l} = 0 $\n",
    "\n",
    "no need for abscence rules as structure factor will be determined to be 0 if absent"
   ]
  },
  {
   "cell_type": "code",
   "execution_count": 3,
   "metadata": {},
   "outputs": [],
   "source": [
    "def structureFactor(lp, N):\n",
    "    F_hkl = 0\n",
    "    h = N[0]\n",
    "    k = N[1]\n",
    "    l = N[2]\n",
    "    for i in lp:\n",
    "        F_hkl += np.e**(2*np.pi*1j*(h*i[0] + k*i[1] + l*i[2]))\n",
    "    \n",
    "    return F_hkl"
   ]
  },
  {
   "cell_type": "code",
   "execution_count": 4,
   "metadata": {},
   "outputs": [],
   "source": [
    "# using Bragg's law wl = 2d_hklsin(theta)\n",
    "def find2theta(N, d, wl = 0.154):\n",
    "    if wl*N**(1/2)/(2*d) > 1:\n",
    "        return 0\n",
    "    twoTheta = 2*np.math.asin(wl*N**(1/2)/(2*d))*180/np.pi\n",
    "    return twoTheta"
   ]
  },
  {
   "cell_type": "code",
   "execution_count": 5,
   "metadata": {},
   "outputs": [],
   "source": [
    "#finds the 2theta peaks\n",
    "def findPeaks(lp):\n",
    "    peaks = []\n",
    "    structureFactors = []\n",
    "\n",
    "    for i in range(28):\n",
    "        if i in exceptions:\n",
    "            continue\n",
    "        dummy = structureFactor(lp, N[i])\n",
    "        if (dummy.real**2 + dummy.imag**2)**(1/2) < 10**(-10):\n",
    "            continue\n",
    "        else:\n",
    "            peaks.append(i)\n",
    "            structureFactors.append(dummy)\n",
    "            \n",
    "    return (peaks, structureFactors)"
   ]
  },
  {
   "cell_type": "code",
   "execution_count": 6,
   "metadata": {},
   "outputs": [],
   "source": [
    "def findThetaPositions(peaks, a):\n",
    "    positions = []\n",
    "    for i in peaks:\n",
    "        dummy = find2theta(i, a)\n",
    "        if dummy == 0:\n",
    "            continue\n",
    "        positions.append(dummy)\n",
    "    return positions"
   ]
  },
  {
   "cell_type": "code",
   "execution_count": 7,
   "metadata": {},
   "outputs": [],
   "source": [
    "def findDspacing(peaks, a):\n",
    "    dPositions = []\n",
    "    for i in peaks:\n",
    "        d = a/i**(1/2)\n",
    "        dPositions.append(d)\n",
    "    return dPositions"
   ]
  },
  {
   "cell_type": "code",
   "execution_count": 8,
   "metadata": {},
   "outputs": [],
   "source": [
    "def twoThetaPlot(positions, y):\n",
    "    #the 2theta plot\n",
    "    plt.bar(positions, y)\n",
    "\n",
    "    #creates axis titles\n",
    "    plt.xlabel('2θ / deg')\n",
    "    plt.ylabel('relative counts')\n",
    "\n",
    "    #gives titles to plot\n",
    "    plt.title('Diffraction plot')\n",
    "\n",
    "    plt.tight_layout()"
   ]
  },
  {
   "cell_type": "code",
   "execution_count": 9,
   "metadata": {},
   "outputs": [],
   "source": [
    "def dSpacingPlot(dPositions, y):\n",
    "    #the d spacing plot\n",
    "    plt.scatter(dPositions, y)\n",
    "\n",
    "    #creates axis titles\n",
    "    plt.xlabel('d-spacing / nm')\n",
    "    plt.ylabel('relative counts')\n",
    "\n",
    "    #gives titles to plot\n",
    "    plt.title('Diffraction plot')\n",
    "\n",
    "    plt.tight_layout()"
   ]
  },
  {
   "cell_type": "code",
   "execution_count": 10,
   "metadata": {},
   "outputs": [],
   "source": [
    "def generatePlots(lp, a, dPlot = False):\n",
    "    peaks = findPeaks(lp)[0]\n",
    "    if dPlot == False:\n",
    "        positions = findThetaPositions(peaks, a)\n",
    "        y = [1 for i in range(len(positions))]\n",
    "        ThetaPlot = twoThetaPlot(positions, y)\n",
    "    else:\n",
    "        dPositions = findDspacing(peaks, a)\n",
    "        y = [1 for i in range(len(dPositions))]\n",
    "        dSpacingPlot(dPositions, y)\n",
    "    "
   ]
  },
  {
   "cell_type": "code",
   "execution_count": 11,
   "metadata": {},
   "outputs": [],
   "source": [
    "#lattice parameter / a float value given in nm\n",
    "#for CsCl\n",
    "#a = 0.4127\n",
    "##lattice points / list of all lattice point\n",
    "#lp = [(0, 0, 0)]\n",
    "\n",
    "# #for NaCl\n",
    "# a = 0.5667\n",
    "# lp = [(0, 0, 0), (1/2, 1/2, 0), (1/2, 0, 1/2), (0, 1/2, 1/2)]\n",
    "\n",
    "# for diamond\n",
    "a = 0.3567\n",
    "lp = [(0, 0, 0), (1/2, 1/2, 0), (1/2, 0, 1/2), (0, 1/2, 1/2), (1/4, 1/4, 1/4), (3/4, 3/4, 1/4), (3/4, 1/4, 3/4), (1/4, 3/4, 3/4)]\n",
    "\n",
    "#motif / if motif has more than one of a similar atom \n",
    "##Is this nescesarry??"
   ]
  },
  {
   "cell_type": "code",
   "execution_count": 12,
   "metadata": {},
   "outputs": [
    {
     "data": {
      "image/png": "[encoded data removed]",
      "text/plain": [
       "<Figure size 432x288 with 1 Axes>"
      ]
     },
     "metadata": {
      "needs_background": "light"
     },
     "output_type": "display_data"
    }
   ],
   "source": [
    "generatePlots(lp, a, dPlot = False)"
   ]
  },
  {
   "cell_type": "markdown",
   "metadata": {},
   "source": [
    "## scattering factor\n",
    "To get the intensity one needs the scattering factor. this is often tabulated\n",
    "On wikipedia this is cited as a source\n",
    "http://lampx.tugraz.at/~hadley/ss1/crystaldiffraction/atomicformfactors/formfactors.php\n",
    "\n",
    "one can attempt to use numbers from here"
   ]
  },
  {
   "cell_type": "code",
   "execution_count": 13,
   "metadata": {},
   "outputs": [],
   "source": [
    "def scatteringFactor(d, a, b, c):\n",
    "    \"a, b are constants that can be summed over, c is a constant\"\n",
    "    G = 2/d\n",
    "    fd = c\n",
    "    for i in range(4):\n",
    "        fG = a[i]*np.e**(-b[i]*(G/(4*np.pi)**2))\n",
    "    return fG"
   ]
  },
  {
   "cell_type": "code",
   "execution_count": 14,
   "metadata": {},
   "outputs": [
    {
     "data": {
      "text/plain": [
       "0.1384238411585082"
      ]
     },
     "execution_count": 14,
     "metadata": {},
     "output_type": "execute_result"
    }
   ],
   "source": [
    "a = [2.31, 1.02, 1.5886, 0.865]\n",
    "b = [20.8439, 10.2075, 0.5678, 51.6512]\n",
    "c = [-0.1932]\n",
    "\n",
    "scatteringFactor(0.357, a, b, c)"
   ]
  },
  {
   "cell_type": "code",
   "execution_count": 15,
   "metadata": {},
   "outputs": [
    {
     "data": {
      "text/plain": [
       "6.106870229007633"
      ]
     },
     "execution_count": 15,
     "metadata": {},
     "output_type": "execute_result"
    }
   ],
   "source": [
    "2/0.3275"
   ]
  },
  {
   "cell_type": "code",
   "execution_count": 16,
   "metadata": {},
   "outputs": [],
   "source": [
    "# try d spacing with reciprocal space\n",
    "# needed: lattice vectors + parameter\n"
   ]
  },
  {
   "cell_type": "code",
   "execution_count": 17,
   "metadata": {},
   "outputs": [],
   "source": [
    "def reciprocalBasis(a, b, c):\n",
    "# where a b and c are numpy arrays\n",
    "    V = np.cross(a, b)@c\n",
    "    ar = 2*np.pi*np.cross(b, c)/V\n",
    "    br = 2*np.pi*np.cross(c, a)/V\n",
    "    cr = 2*np.pi*np.cross(a, b)/V\n",
    "    reciprocalBasis = np.array([ar, br, cr])\n",
    "    \n",
    "    return reciprocalBasis\n"
   ]
  },
  {
   "cell_type": "code",
   "execution_count": 18,
   "metadata": {},
   "outputs": [],
   "source": [
    "def reciprocalVector(reciprocalBasis, h, k, l):\n",
    "    G = h*reciprocalBasis[0] + k*reciprocalBasis[1] + l*reciprocalBasis[2]\n",
    "    return G"
   ]
  },
  {
   "cell_type": "code",
   "execution_count": 19,
   "metadata": {},
   "outputs": [],
   "source": [
    "def dSpacing(G):\n",
    "    d = 2*np.pi/sum(G**2)**(1/2)\n",
    "    return d"
   ]
  },
  {
   "cell_type": "code",
   "execution_count": 20,
   "metadata": {},
   "outputs": [
    {
     "name": "stdout",
     "output_type": "stream",
     "text": [
      "3.5212734027517545 25.293143271631266\n"
     ]
    }
   ],
   "source": [
    "a = np.array([3.789, 0, 0])\n",
    "b = np.array([0, 3.789, 0])\n",
    "c = np.array([0, 0, 9.537])\n",
    "basis = reciprocalBasis(a, b, c)\n",
    "G = reciprocalVector(basis, 0, 1, 1)\n",
    "d = dSpacing(G)\n",
    "wl = 1.54187\n",
    "twoTheta = 2*np.math.asin(wl/(2*d))*180/np.pi\n",
    "print(d, twoTheta)"
   ]
  },
  {
   "cell_type": "code",
   "execution_count": 21,
   "metadata": {},
   "outputs": [
    {
     "data": {
      "text/plain": [
       "array([0.        , 0.        , 0.65882199])"
      ]
     },
     "execution_count": 21,
     "metadata": {},
     "output_type": "execute_result"
    }
   ],
   "source": [
    "basis[2]"
   ]
  },
  {
   "cell_type": "code",
   "execution_count": 22,
   "metadata": {},
   "outputs": [
    {
     "name": "stdout",
     "output_type": "stream",
     "text": [
      "[('0', '1', '2'), ('0', '1', '3'), ('0', '1', '4'), ('0', '1', '5'), ('0', '2', '1'), ('0', '2', '3'), ('0', '2', '4'), ('0', '2', '5'), ('0', '3', '1'), ('0', '3', '2'), ('0', '3', '4'), ('0', '3', '5'), ('0', '4', '1'), ('0', '4', '2'), ('0', '4', '3'), ('0', '4', '5'), ('0', '5', '1'), ('0', '5', '2'), ('0', '5', '3'), ('0', '5', '4'), ('1', '0', '2'), ('1', '0', '3'), ('1', '0', '4'), ('1', '0', '5'), ('1', '2', '0'), ('1', '2', '3'), ('1', '2', '4'), ('1', '2', '5'), ('1', '3', '0'), ('1', '3', '2'), ('1', '3', '4'), ('1', '3', '5'), ('1', '4', '0'), ('1', '4', '2'), ('1', '4', '3'), ('1', '4', '5'), ('1', '5', '0'), ('1', '5', '2'), ('1', '5', '3'), ('1', '5', '4'), ('2', '0', '1'), ('2', '0', '3'), ('2', '0', '4'), ('2', '0', '5'), ('2', '1', '0'), ('2', '1', '3'), ('2', '1', '4'), ('2', '1', '5'), ('2', '3', '0'), ('2', '3', '1'), ('2', '3', '4'), ('2', '3', '5'), ('2', '4', '0'), ('2', '4', '1'), ('2', '4', '3'), ('2', '4', '5'), ('2', '5', '0'), ('2', '5', '1'), ('2', '5', '3'), ('2', '5', '4'), ('3', '0', '1'), ('3', '0', '2'), ('3', '0', '4'), ('3', '0', '5'), ('3', '1', '0'), ('3', '1', '2'), ('3', '1', '4'), ('3', '1', '5'), ('3', '2', '0'), ('3', '2', '1'), ('3', '2', '4'), ('3', '2', '5'), ('3', '4', '0'), ('3', '4', '1'), ('3', '4', '2'), ('3', '4', '5'), ('3', '5', '0'), ('3', '5', '1'), ('3', '5', '2'), ('3', '5', '4'), ('4', '0', '1'), ('4', '0', '2'), ('4', '0', '3'), ('4', '0', '5'), ('4', '1', '0'), ('4', '1', '2'), ('4', '1', '3'), ('4', '1', '5'), ('4', '2', '0'), ('4', '2', '1'), ('4', '2', '3'), ('4', '2', '5'), ('4', '3', '0'), ('4', '3', '1'), ('4', '3', '2'), ('4', '3', '5'), ('4', '5', '0'), ('4', '5', '1'), ('4', '5', '2'), ('4', '5', '3'), ('5', '0', '1'), ('5', '0', '2'), ('5', '0', '3'), ('5', '0', '4'), ('5', '1', '0'), ('5', '1', '2'), ('5', '1', '3'), ('5', '1', '4'), ('5', '2', '0'), ('5', '2', '1'), ('5', '2', '3'), ('5', '2', '4'), ('5', '3', '0'), ('5', '3', '1'), ('5', '3', '2'), ('5', '3', '4'), ('5', '4', '0'), ('5', '4', '1'), ('5', '4', '2'), ('5', '4', '3')]\n",
      "120\n"
     ]
    }
   ],
   "source": [
    "import itertools\n",
    "permutationObject = itertools.permutations(\"012345\", 3)\n",
    "\n",
    "permutationsList = list(permutationObject)\n",
    "\n",
    "print(permutationsList)\n",
    "print(len(permutationsList))"
   ]
  },
  {
   "cell_type": "code",
   "execution_count": 23,
   "metadata": {},
   "outputs": [
    {
     "data": {
      "text/plain": [
       "3.5212734027517545"
      ]
     },
     "execution_count": 23,
     "metadata": {},
     "output_type": "execute_result"
    }
   ],
   "source": [
    "dSpacing(G)\n"
   ]
  },
  {
   "cell_type": "code",
   "execution_count": 24,
   "metadata": {},
   "outputs": [],
   "source": [
    "# generating permutations for no cubic systems where [100] =/= [001]\n"
   ]
  },
  {
   "cell_type": "code",
   "execution_count": 25,
   "metadata": {},
   "outputs": [
    {
     "name": "stdout",
     "output_type": "stream",
     "text": [
      "[('0', '1', '2'), ('0', '1', '3'), ('0', '1', '4'), ('0', '1', '5'), ('0', '2', '3'), ('0', '2', '4'), ('0', '2', '5'), ('0', '3', '4'), ('0', '3', '5'), ('0', '4', '5'), ('1', '2', '3'), ('1', '2', '4'), ('1', '2', '5'), ('1', '3', '4'), ('1', '3', '5'), ('1', '4', '5'), ('2', '3', '4'), ('2', '3', '5'), ('2', '4', '5'), ('3', '4', '5')]\n",
      "20\n"
     ]
    }
   ],
   "source": [
    "combinationsObject = itertools.combinations(\"012345\", 3)\n",
    "combinationsList = list(combinationsObject)\n",
    "print(combinationsList)\n",
    "print(len(combinationsList))"
   ]
  },
  {
   "cell_type": "code",
   "execution_count": 26,
   "metadata": {},
   "outputs": [
    {
     "name": "stdout",
     "output_type": "stream",
     "text": [
      "[('0', '0', '0'), ('0', '0', '1'), ('0', '0', '2'), ('0', '0', '3'), ('0', '0', '4'), ('0', '0', '5'), ('0', '1', '0'), ('0', '1', '1'), ('0', '1', '2'), ('0', '1', '3'), ('0', '1', '4'), ('0', '1', '5'), ('0', '2', '0'), ('0', '2', '1'), ('0', '2', '2'), ('0', '2', '3'), ('0', '2', '4'), ('0', '2', '5'), ('0', '3', '0'), ('0', '3', '1'), ('0', '3', '2'), ('0', '3', '3'), ('0', '3', '4'), ('0', '3', '5'), ('0', '4', '0'), ('0', '4', '1'), ('0', '4', '2'), ('0', '4', '3'), ('0', '4', '4'), ('0', '4', '5'), ('0', '5', '0'), ('0', '5', '1'), ('0', '5', '2'), ('0', '5', '3'), ('0', '5', '4'), ('0', '5', '5'), ('1', '0', '0'), ('1', '0', '1'), ('1', '0', '2'), ('1', '0', '3'), ('1', '0', '4'), ('1', '0', '5'), ('1', '1', '0'), ('1', '1', '1'), ('1', '1', '2'), ('1', '1', '3'), ('1', '1', '4'), ('1', '1', '5'), ('1', '2', '0'), ('1', '2', '1'), ('1', '2', '2'), ('1', '2', '3'), ('1', '2', '4'), ('1', '2', '5'), ('1', '3', '0'), ('1', '3', '1'), ('1', '3', '2'), ('1', '3', '3'), ('1', '3', '4'), ('1', '3', '5'), ('1', '4', '0'), ('1', '4', '1'), ('1', '4', '2'), ('1', '4', '3'), ('1', '4', '4'), ('1', '4', '5'), ('1', '5', '0'), ('1', '5', '1'), ('1', '5', '2'), ('1', '5', '3'), ('1', '5', '4'), ('1', '5', '5'), ('2', '0', '0'), ('2', '0', '1'), ('2', '0', '2'), ('2', '0', '3'), ('2', '0', '4'), ('2', '0', '5'), ('2', '1', '0'), ('2', '1', '1'), ('2', '1', '2'), ('2', '1', '3'), ('2', '1', '4'), ('2', '1', '5'), ('2', '2', '0'), ('2', '2', '1'), ('2', '2', '2'), ('2', '2', '3'), ('2', '2', '4'), ('2', '2', '5'), ('2', '3', '0'), ('2', '3', '1'), ('2', '3', '2'), ('2', '3', '3'), ('2', '3', '4'), ('2', '3', '5'), ('2', '4', '0'), ('2', '4', '1'), ('2', '4', '2'), ('2', '4', '3'), ('2', '4', '4'), ('2', '4', '5'), ('2', '5', '0'), ('2', '5', '1'), ('2', '5', '2'), ('2', '5', '3'), ('2', '5', '4'), ('2', '5', '5'), ('3', '0', '0'), ('3', '0', '1'), ('3', '0', '2'), ('3', '0', '3'), ('3', '0', '4'), ('3', '0', '5'), ('3', '1', '0'), ('3', '1', '1'), ('3', '1', '2'), ('3', '1', '3'), ('3', '1', '4'), ('3', '1', '5'), ('3', '2', '0'), ('3', '2', '1'), ('3', '2', '2'), ('3', '2', '3'), ('3', '2', '4'), ('3', '2', '5'), ('3', '3', '0'), ('3', '3', '1'), ('3', '3', '2'), ('3', '3', '3'), ('3', '3', '4'), ('3', '3', '5'), ('3', '4', '0'), ('3', '4', '1'), ('3', '4', '2'), ('3', '4', '3'), ('3', '4', '4'), ('3', '4', '5'), ('3', '5', '0'), ('3', '5', '1'), ('3', '5', '2'), ('3', '5', '3'), ('3', '5', '4'), ('3', '5', '5'), ('4', '0', '0'), ('4', '0', '1'), ('4', '0', '2'), ('4', '0', '3'), ('4', '0', '4'), ('4', '0', '5'), ('4', '1', '0'), ('4', '1', '1'), ('4', '1', '2'), ('4', '1', '3'), ('4', '1', '4'), ('4', '1', '5'), ('4', '2', '0'), ('4', '2', '1'), ('4', '2', '2'), ('4', '2', '3'), ('4', '2', '4'), ('4', '2', '5'), ('4', '3', '0'), ('4', '3', '1'), ('4', '3', '2'), ('4', '3', '3'), ('4', '3', '4'), ('4', '3', '5'), ('4', '4', '0'), ('4', '4', '1'), ('4', '4', '2'), ('4', '4', '3'), ('4', '4', '4'), ('4', '4', '5'), ('4', '5', '0'), ('4', '5', '1'), ('4', '5', '2'), ('4', '5', '3'), ('4', '5', '4'), ('4', '5', '5'), ('5', '0', '0'), ('5', '0', '1'), ('5', '0', '2'), ('5', '0', '3'), ('5', '0', '4'), ('5', '0', '5'), ('5', '1', '0'), ('5', '1', '1'), ('5', '1', '2'), ('5', '1', '3'), ('5', '1', '4'), ('5', '1', '5'), ('5', '2', '0'), ('5', '2', '1'), ('5', '2', '2'), ('5', '2', '3'), ('5', '2', '4'), ('5', '2', '5'), ('5', '3', '0'), ('5', '3', '1'), ('5', '3', '2'), ('5', '3', '3'), ('5', '3', '4'), ('5', '3', '5'), ('5', '4', '0'), ('5', '4', '1'), ('5', '4', '2'), ('5', '4', '3'), ('5', '4', '4'), ('5', '4', '5'), ('5', '5', '0'), ('5', '5', '1'), ('5', '5', '2'), ('5', '5', '3'), ('5', '5', '4'), ('5', '5', '5')]\n",
      "216\n"
     ]
    }
   ],
   "source": [
    "productObject = itertools.product(\"012345\", repeat = 3)\n",
    "productList = list(productObject)\n",
    "print(productList)\n",
    "print(len(productList))"
   ]
  },
  {
   "cell_type": "code",
   "execution_count": 27,
   "metadata": {},
   "outputs": [
    {
     "data": {
      "text/plain": [
       "True"
      ]
     },
     "execution_count": 27,
     "metadata": {},
     "output_type": "execute_result"
    }
   ],
   "source": [
    "('1', '1', '0') in productList"
   ]
  },
  {
   "cell_type": "code",
   "execution_count": 28,
   "metadata": {},
   "outputs": [
    {
     "name": "stdout",
     "output_type": "stream",
     "text": [
      "[(('0', '0', '1'), 9.537), (('0', '0', '2'), 4.7685), (('0', '0', '3'), 3.1790000000000003), (('0', '0', '4'), 2.38425), (('0', '0', '5'), 1.9074000000000002), (('0', '1', '0'), 3.789), (('0', '1', '1'), 3.5212734027517545), (('0', '1', '2'), 2.9665251977130715), (('0', '1', '3'), 2.435365578954976), (('0', '1', '4'), 2.017970767662106), (('0', '1', '5'), 1.7037039464467978), (('0', '2', '0'), 1.8945), (('0', '2', '1'), 1.8581918718634125), (('0', '2', '2'), 1.7606367013758772), (('0', '2', '3'), 1.6274265765125417), (('0', '2', '4'), 1.4832625988565358), (('0', '2', '5'), 1.3441514231878435), (('0', '3', '0'), 1.263), (('0', '3', '1'), 1.252068258060878), (('0', '3', '2'), 1.220901187620631), (('0', '3', '3'), 1.1737578009172513), (('0', '3', '4'), 1.1160789289095077), (('0', '3', '5'), 1.0530657728118524), (('0', '4', '0'), 0.94725), (('0', '4', '1'), 0.9426118859918012), (('0', '4', '2'), 0.9290959359317063), (('0', '4', '3'), 0.907806315768998), (('0', '4', '4'), 0.8803183506879386), (('0', '4', '5'), 0.8483906037549036), (('0', '5', '0'), 0.7578), (('0', '5', '1'), 0.7554189985637823), (('0', '5', '2'), 0.7484084364620316), (('0', '5', '3'), 0.7371457492845883), (('0', '5', '4'), 0.7221993230247441), (('0', '5', '5'), 0.7042546805503509), (('1', '0', '0'), 3.789), (('1', '0', '1'), 3.5212734027517545), (('1', '0', '2'), 2.9665251977130715), (('1', '0', '3'), 2.435365578954976), (('1', '0', '4'), 2.017970767662106), (('1', '0', '5'), 1.7037039464467978), (('1', '1', '0'), 2.679227593915829), (('1', '1', '1'), 2.579376103599884), (('1', '1', '2'), 2.335788105115174), (('1', '1', '3'), 2.0486804291369105), (('1', '1', '4'), 1.7811143700061134), (('1', '1', '5'), 1.553850772833537), (('1', '2', '0'), 1.6944923133493408), (('1', '2', '1'), 1.6683629670161073), (('1', '2', '2'), 1.5966785054687818), (('1', '2', '3'), 1.495330537306165), (('1', '2', '4'), 1.3812020619525849), (('1', '2', '5'), 1.2668006210162222), (('1', '3', '0'), 1.198187005437799), (('1', '3', '1'), 1.1888412201240623), (('1', '3', '2'), 1.1620637089423775), (('1', '3', '3'), 1.1211929859235334), (('1', '3', '4'), 1.0706000159993643), (('1', '3', '5'), 1.014608653300734), (('1', '4', '0'), 0.9189674832626658), (('1', '4', '1'), 0.9147307084141942), (('1', '4', '2'), 0.9023635523481593), (('1', '4', '3'), 0.8828214164721034), (('1', '4', '4'), 0.8574792830680669), (('1', '4', '5'), 0.8278911653344055), (('1', '5', '0'), 0.7430840360385794), (('1', '5', '1'), 0.7408386640590289), (('1', '5', '2'), 0.7342227396922442), (('1', '5', '3'), 0.7235794483677738), (('1', '5', '4'), 0.709427549727465), (('1', '5', '5'), 0.6923961275996657), (('2', '0', '0'), 1.8945), (('2', '0', '1'), 1.8581918718634125), (('2', '0', '2'), 1.7606367013758772), (('2', '0', '3'), 1.6274265765125417), (('2', '0', '4'), 1.4832625988565358), (('2', '0', '5'), 1.3441514231878435), (('2', '1', '0'), 1.6944923133493408), (('2', '1', '1'), 1.6683629670161073), (('2', '1', '2'), 1.5966785054687818), (('2', '1', '3'), 1.495330537306165), (('2', '1', '4'), 1.3812020619525849), (('2', '1', '5'), 1.2668006210162222), (('2', '2', '0'), 1.3396137969579145), (('2', '2', '1'), 1.3265906460836747), (('2', '2', '2'), 1.289688051799942), (('2', '2', '3'), 1.234484379322174), (('2', '2', '4'), 1.167894052557587), (('2', '2', '5'), 1.0962558757788738), (('2', '3', '0'), 1.0508795217486966), (('2', '3', '1'), 1.0445572634378983), (('2', '3', '2'), 1.0262538820895455), (('2', '3', '3'), 0.9977761531257668), (('2', '3', '4'), 0.9616165947735386), (('2', '3', '5'), 0.9204283907585264), (('2', '4', '0'), 0.8472461566746704), (('2', '4', '1'), 0.8439225174649577), (('2', '4', '2'), 0.8341814835080537), (('2', '4', '3'), 0.8186700654664313), (('2', '4', '4'), 0.7983392527343909), (('2', '4', '5'), 0.774296702651282), (('2', '5', '0'), 0.7035996363528496), (('2', '5', '1'), 0.701692618273294), (('2', '5', '2'), 0.6960632765144382), (('2', '5', '3'), 0.6869747944900287), (('2', '5', '4'), 0.6748289159361863), (('2', '5', '5'), 0.6601197778132869), (('3', '0', '0'), 1.263), (('3', '0', '1'), 1.252068258060878), (('3', '0', '2'), 1.220901187620631), (('3', '0', '3'), 1.1737578009172513), (('3', '0', '4'), 1.1160789289095077), (('3', '0', '5'), 1.0530657728118524), (('3', '1', '0'), 1.198187005437799), (('3', '1', '1'), 1.1888412201240623), (('3', '1', '2'), 1.1620637089423775), (('3', '1', '3'), 1.1211929859235334), (('3', '1', '4'), 1.0706000159993643), (('3', '1', '5'), 1.014608653300734), (('3', '2', '0'), 1.0508795217486966), (('3', '2', '1'), 1.0445572634378983), (('3', '2', '2'), 1.0262538820895455), (('3', '2', '3'), 0.9977761531257668), (('3', '2', '4'), 0.9616165947735386), (('3', '2', '5'), 0.9204283907585264), (('3', '3', '0'), 0.8930758646386094), (('3', '3', '1'), 0.8891857119571792), (('3', '3', '2'), 0.8778133497292421), (('3', '3', '3'), 0.8597920345332946), (('3', '3', '4'), 0.8363303164424317), (('3', '3', '5'), 0.8088093201192241), (('3', '4', '0'), 0.7578), (('3', '4', '1'), 0.755418998563782), (('3', '4', '2'), 0.7484084364620316), (('3', '4', '3'), 0.7371457492845882), (('3', '4', '4'), 0.722199323024744), (('3', '4', '5'), 0.7042546805503508), (('3', '5', '0'), 0.649808139104966), (('3', '5', '1'), 0.6483050215522533), (('3', '5', '2'), 0.6438574921279896), (('3', '5', '3'), 0.6366441045832135), (('3', '5', '4'), 0.6269408678412476), (('3', '5', '5'), 0.6150935292967268), (('4', '0', '0'), 0.94725), (('4', '0', '1'), 0.9426118859918012), (('4', '0', '2'), 0.9290959359317063), (('4', '0', '3'), 0.907806315768998), (('4', '0', '4'), 0.8803183506879386), (('4', '0', '5'), 0.8483906037549036), (('4', '1', '0'), 0.9189674832626658), (('4', '1', '1'), 0.9147307084141942), (('4', '1', '2'), 0.9023635523481593), (('4', '1', '3'), 0.8828214164721034), (('4', '1', '4'), 0.8574792830680669), (('4', '1', '5'), 0.8278911653344055), (('4', '2', '0'), 0.8472461566746704), (('4', '2', '1'), 0.8439225174649577), (('4', '2', '2'), 0.8341814835080537), (('4', '2', '3'), 0.8186700654664313), (('4', '2', '4'), 0.7983392527343909), (('4', '2', '5'), 0.774296702651282), (('4', '3', '0'), 0.7578), (('4', '3', '1'), 0.755418998563782), (('4', '3', '2'), 0.7484084364620316), (('4', '3', '3'), 0.7371457492845882), (('4', '3', '4'), 0.722199323024744), (('4', '3', '5'), 0.7042546805503508), (('4', '4', '0'), 0.6698068984789572), (('4', '4', '1'), 0.6681610408743266), (('4', '4', '2'), 0.6632953230418374), (('4', '4', '3'), 0.655416788605031), (('4', '4', '4'), 0.644844025899971), (('4', '4', '5'), 0.6319734737485655), (('4', '5', '0'), 0.5917423837959285), (('4', '5', '1'), 0.5906066077461841), (('4', '5', '2'), 0.5872381218629626), (('4', '5', '3'), 0.5817498272923217), (('4', '5', '4'), 0.5743184543313049), (('4', '5', '5'), 0.5651694851489462), (('5', '0', '0'), 0.7578), (('5', '0', '1'), 0.7554189985637823), (('5', '0', '2'), 0.7484084364620316), (('5', '0', '3'), 0.7371457492845883), (('5', '0', '4'), 0.7221993230247441), (('5', '0', '5'), 0.7042546805503509), (('5', '1', '0'), 0.7430840360385794), (('5', '1', '1'), 0.7408386640590289), (('5', '1', '2'), 0.7342227396922442), (('5', '1', '3'), 0.7235794483677738), (('5', '1', '4'), 0.709427549727465), (('5', '1', '5'), 0.6923961275996657), (('5', '2', '0'), 0.7035996363528496), (('5', '2', '1'), 0.701692618273294), (('5', '2', '2'), 0.6960632765144382), (('5', '2', '3'), 0.6869747944900287), (('5', '2', '4'), 0.6748289159361863), (('5', '2', '5'), 0.6601197778132869), (('5', '3', '0'), 0.649808139104966), (('5', '3', '1'), 0.6483050215522533), (('5', '3', '2'), 0.6438574921279896), (('5', '3', '3'), 0.6366441045832135), (('5', '3', '4'), 0.6269408678412476), (('5', '3', '5'), 0.6150935292967268), (('5', '4', '0'), 0.5917423837959285), (('5', '4', '1'), 0.5906066077461841), (('5', '4', '2'), 0.5872381218629626), (('5', '4', '3'), 0.5817498272923217), (('5', '4', '4'), 0.5743184543313049), (('5', '4', '5'), 0.5651694851489462), (('5', '5', '0'), 0.5358455187831658), (('5', '5', '1'), 0.5350017208111345), (('5', '5', '2'), 0.532494044965322), (('5', '5', '3'), 0.5283918201422488), (('5', '5', '4'), 0.522804779918526), (('5', '5', '5'), 0.5158752207199768)]\n"
     ]
    }
   ],
   "source": [
    "a = np.array([3.789, 0, 0])\n",
    "b = np.array([0, 3.789, 0])\n",
    "c = np.array([0, 0, 9.537])\n",
    "basis = reciprocalBasis(a, b, c)\n",
    "peaks = []\n",
    "for i in productList:\n",
    "    if i == (\"0\", \"0\", \"0\"):\n",
    "        continue\n",
    "    G = reciprocalVector(basis, int(i[0]), int(i[1]), int(i[2]))\n",
    "    d = dSpacing(G)\n",
    "    peaks.append((i, d))  \n",
    "    \n",
    "print(peaks)"
   ]
  },
  {
   "cell_type": "code",
   "execution_count": 29,
   "metadata": {},
   "outputs": [
    {
     "ename": "TypeError",
     "evalue": "list indices must be integers or slices, not tuple",
     "output_type": "error",
     "traceback": [
      "\u001b[1;31m---------------------------------------------------------------------------\u001b[0m",
      "\u001b[1;31mTypeError\u001b[0m                                 Traceback (most recent call last)",
      "\u001b[1;32m<ipython-input-29-30e199f6dcae>\u001b[0m in \u001b[0;36m<module>\u001b[1;34m\u001b[0m\n\u001b[1;32m----> 1\u001b[1;33m \u001b[0mpeaks\u001b[0m\u001b[1;33m[\u001b[0m\u001b[1;33m(\u001b[0m\u001b[1;34m'2'\u001b[0m\u001b[1;33m,\u001b[0m \u001b[1;34m'2'\u001b[0m\u001b[1;33m,\u001b[0m \u001b[1;34m'0'\u001b[0m\u001b[1;33m)\u001b[0m\u001b[1;33m]\u001b[0m\u001b[1;33m\u001b[0m\u001b[1;33m\u001b[0m\u001b[0m\n\u001b[0m",
      "\u001b[1;31mTypeError\u001b[0m: list indices must be integers or slices, not tuple"
     ]
    }
   ],
   "source": [
    "peaks[('2', '2', '0')]"
   ]
  },
  {
   "cell_type": "code",
   "execution_count": 30,
   "metadata": {},
   "outputs": [
    {
     "name": "stdout",
     "output_type": "stream",
     "text": [
      "[(('0', '0', '1'), 9.261994916901077), (('0', '0', '2'), 37.68317323851155), (('0', '0', '3'), 93.21149627257172), (('0', '1', '0'), 23.45062078521675), (('0', '1', '1'), 36.0277554721206), (('0', '1', '2'), 70.95741588372256), (('0', '1', '3'), 177.89270848690205), (('0', '2', '0'), 108.75643397534179), (('0', '2', '1'), 135.81711110505807), (('1', '0', '0'), 23.45062078521675), (('1', '0', '1'), 36.0277554721206), (('1', '0', '2'), 70.95741588372256), (('1', '0', '3'), 177.89270848690205), (('1', '1', '0'), 47.96275454818245), (('1', '1', '1'), 62.269816630763295), (('1', '1', '2'), 107.70130192601648), (('2', '0', '0'), 108.75643397534179), (('2', '0', '1'), 135.81711110505807)]\n"
     ]
    }
   ],
   "source": [
    "wl = 1.54\n",
    "\n",
    "twoThetaPeaks = []\n",
    "for i in peaks:\n",
    "    N = int(i[0][0])**2 + int(i[0][1])**2 + int(i[0][2])**2\n",
    "    if wl*N**(1/2)/(2*i[1]) > 1:\n",
    "        continue\n",
    "    twoTheta = 2*np.math.asin(wl*N**(1/2)/(2*i[1]))*180/np.pi\n",
    "    twoThetaPeaks.append((i[0], twoTheta))\n",
    "\n",
    "print(twoThetaPeaks)"
   ]
  },
  {
   "cell_type": "code",
   "execution_count": 35,
   "metadata": {},
   "outputs": [
    {
     "data": {
      "text/plain": [
       "'0'"
      ]
     },
     "execution_count": 35,
     "metadata": {},
     "output_type": "execute_result"
    }
   ],
   "source": [
    "peaks[1][0][1]"
   ]
  },
  {
   "cell_type": "code",
   "execution_count": null,
   "metadata": {},
   "outputs": [],
   "source": []
  }
 ],
 "metadata": {
  "kernelspec": {
   "display_name": "Python 3",
   "language": "python",
   "name": "python3"
  },
  "language_info": {
   "codemirror_mode": {
    "name": "ipython",
    "version": 3
   },
   "file_extension": ".py",
   "mimetype": "text/x-python",
   "name": "python",
   "nbconvert_exporter": "python",
   "pygments_lexer": "ipython3",
   "version": "3.7.4"
  }
 },
 "nbformat": 4,
 "nbformat_minor": 2
}
