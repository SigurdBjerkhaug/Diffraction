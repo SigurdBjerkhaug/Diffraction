{
 "cells": [
  {
   "cell_type": "markdown",
   "metadata": {},
   "source": [
    "# Simulating Diffraction plots : an attempt\n",
    "I was taught diffraction at uni last autumn. I found the subject interesting, but some of the calculations timeconsuming, so I thought trying to program it could be a way to go. Doing this project has made me appreciate the math behind it more, and there is still lots more to learn and implement.\n",
    "Still a work in progress.\n",
    "\n",
    "### My goals for the project are:\n",
    "- To simulate simple crystals, firstly cubic, then non-cubic, to \n",
    "- Consolidate my diffraction knowledge and gain greater understanding of the subject\n",
    "\n",
    "### This far I have learnt\n",
    "- How to use Itertools to make combinations and permutations\n",
    "- How to use complex numbers in Python"
   ]
  },
  {
   "cell_type": "markdown",
   "metadata": {},
   "source": [
    "## Libraries used"
   ]
  },
  {
   "cell_type": "code",
   "execution_count": 1,
   "metadata": {},
   "outputs": [],
   "source": [
    "import numpy as np\n",
    "from matplotlib import pyplot as plt\n",
    "import itertools"
   ]
  },
  {
   "cell_type": "markdown",
   "metadata": {},
   "source": [
    "## Find lattice spacing in reciprocal space"
   ]
  },
  {
   "cell_type": "code",
   "execution_count": 2,
   "metadata": {},
   "outputs": [],
   "source": [
    "def findReciprocalBasis(a, b, c):\n",
    "    \"Generates basis vectors in reciprocal space based on a set of basis/lattice vectors, a b c are numpy arrays\"\n",
    "    V = np.cross(a, b)@c #volume of unit cell\n",
    "    ar = 2*np.pi*np.cross(b, c)/V #a reciprocal\n",
    "    br = 2*np.pi*np.cross(c, a)/V\n",
    "    cr = 2*np.pi*np.cross(a, b)/V\n",
    "    reciprocalBasis = np.array([ar, br, cr])\n",
    "    \n",
    "    return reciprocalBasis"
   ]
  },
  {
   "cell_type": "code",
   "execution_count": 3,
   "metadata": {},
   "outputs": [],
   "source": [
    "def reciprocalVector(reciprocalBasis, h, k, l):\n",
    "    \"gives a reciprocal vector G based on lattice plane indecies. h k l are int\"\n",
    "    G = h*reciprocalBasis[0] + k*reciprocalBasis[1] + l*reciprocalBasis[2]\n",
    "    return G"
   ]
  },
  {
   "cell_type": "code",
   "execution_count": 4,
   "metadata": {},
   "outputs": [],
   "source": [
    "def dSpacing(G):\n",
    "    \"Takes reciprocal lattice vector G to return interplanarspacing d. G should be a np array\"\n",
    "    G = np.array(G) #to make sure the datatype is compatible\n",
    "    d = 2*np.pi/sum(G**2)**(1/2)\n",
    "    return d"
   ]
  },
  {
   "cell_type": "markdown",
   "metadata": {},
   "source": [
    "## Generating all planes up to (555)\n",
    "My goal is to get this to work with non-cubic crystals too, so (100) =/= (010) necesarily. Therefore all different combinations are generated using the itertools library"
   ]
  },
  {
   "cell_type": "code",
   "execution_count": 5,
   "metadata": {},
   "outputs": [],
   "source": [
    "#generates a list of all planes up to (555) using the itertools library\n",
    "productObject = itertools.product(\"012345\", repeat = 3)\n",
    "productList = list(productObject)\n",
    "productList.remove(('0','0','0')) #as this is not a proper miller plane"
   ]
  },
  {
   "cell_type": "markdown",
   "metadata": {},
   "source": [
    "## Figure out structure factor\n",
    "\n",
    "There will be systematic abscences where $ F_{h k l} = 0 $\n",
    "\n",
    "no need for abscence rules as structure factor will be determined to be 0 if absent"
   ]
  },
  {
   "cell_type": "code",
   "execution_count": 6,
   "metadata": {},
   "outputs": [],
   "source": [
    "def structureFactor(lp, plane):\n",
    "    \"lp is list of lattice points/motif in crystal, plane is a place in the crystal\"\n",
    "    F_hkl = 0\n",
    "#     h = N[0]\n",
    "#     k = N[1]\n",
    "#     l = N[2]\n",
    "    for i in lp:\n",
    "        F_hkl += np.e**(2*np.pi*1j*(int(plane[0])*i[0] + int(plane[1])*i[1] + int(plane[2])*i[2]))\n",
    "    \n",
    "    return F_hkl"
   ]
  },
  {
   "cell_type": "markdown",
   "metadata": {},
   "source": [
    "## Different functions to figure out peak positions"
   ]
  },
  {
   "cell_type": "code",
   "execution_count": 7,
   "metadata": {},
   "outputs": [],
   "source": [
    "# using Bragg's law wl = 2d_hklsin(theta)\n",
    "def find2theta(plane, reciprocalBasis, wl = 0.154):\n",
    "    \"finds the 2theta position of a peak given its origin plane, interplanar spacing, and source wavelength (in nm)\"\n",
    "    G = reciprocalVector(reciprocalBasis, int(plane[0]), int(plane[1]), int(plane[2]))\n",
    "    d = dSpacing(G)\n",
    "    if wl/(2*d) > 1:\n",
    "        return 0\n",
    "    twoTheta = 2*np.math.asin(wl/(2*d))*180/np.pi\n",
    "    return twoTheta"
   ]
  },
  {
   "cell_type": "code",
   "execution_count": 8,
   "metadata": {},
   "outputs": [],
   "source": [
    "#finds the 2theta peaks\n",
    "def findPeaks(lp, listOfPlanes):\n",
    "    \"Finds the peaks and structure factors of planes present in a diffraction plot for the latticepoints in the unit cell and planes considered\"\n",
    "    peaks = []\n",
    "    structureFactors = []\n",
    "\n",
    "    for i in listOfPlanes:\n",
    "        dummy = structureFactor(lp, i)\n",
    "        if (dummy.real**2 + dummy.imag**2)**(1/2) < 10**(-10):\n",
    "            continue\n",
    "        else:\n",
    "            peaks.append(i)\n",
    "            structureFactors.append(dummy)\n",
    "            \n",
    "    return (peaks, structureFactors)"
   ]
  },
  {
   "cell_type": "code",
   "execution_count": 9,
   "metadata": {},
   "outputs": [],
   "source": [
    "def findThetaPositions(peaks, reciprocalBasis):\n",
    "    \"Gives list of 2theta positions for a given list of peaks and the reciprocal basis of the crystal system\"\n",
    "    positions = []\n",
    "    for i in peaks:\n",
    "        dummy = find2theta(i, reciprocalBasis)\n",
    "        if dummy == 0:\n",
    "            continue\n",
    "        positions.append(dummy)\n",
    "    return positions"
   ]
  },
  {
   "cell_type": "code",
   "execution_count": 10,
   "metadata": {},
   "outputs": [],
   "source": [
    "def findDspacing(peaks, reciprocalBasis):\n",
    "    \"Finds the expected d-spacing of a material based on a given list of peaks and the reciprocal basis of the crystal system\"\n",
    "    dPositions = []\n",
    "    for peak in peaks:\n",
    "        G = reciprocalVector(reciprocalBasis, int(peak[0]), int(peak[1]), int(peak[2]))\n",
    "        d = dSpacing(G)\n",
    "        dPositions.append(d)\n",
    "    return dPositions"
   ]
  },
  {
   "cell_type": "markdown",
   "metadata": {},
   "source": [
    "## Functions to plot the simulated data"
   ]
  },
  {
   "cell_type": "code",
   "execution_count": 11,
   "metadata": {},
   "outputs": [],
   "source": [
    "def twoThetaPlot(positions, y):\n",
    "    \"Creates a 2theta plot based on an x and y array\"\n",
    "    #the 2theta plot\n",
    "    plt.bar(positions, y)\n",
    "\n",
    "    #creates axis titles\n",
    "    plt.xlabel('2θ / deg')\n",
    "    plt.ylabel('relative counts')\n",
    "\n",
    "    #gives titles to plot\n",
    "    plt.title('Diffraction plot')\n",
    "\n",
    "    plt.tight_layout()"
   ]
  },
  {
   "cell_type": "code",
   "execution_count": 12,
   "metadata": {},
   "outputs": [],
   "source": [
    "def dSpacingPlot(dPositions, y):\n",
    "    \"Provides a d-spacing diffraction plot based on x and y\"\n",
    "    #the d spacing plot\n",
    "    plt.scatter(dPositions, y)\n",
    "\n",
    "    #creates axis titles\n",
    "    plt.xlabel('d-spacing / nm')\n",
    "    plt.ylabel('relative counts')\n",
    "\n",
    "    #gives titles to plot\n",
    "    plt.title('Diffraction plot')\n",
    "\n",
    "    plt.tight_layout()"
   ]
  },
  {
   "cell_type": "markdown",
   "metadata": {},
   "source": [
    "## Function combining all of the above to simulate results"
   ]
  },
  {
   "cell_type": "code",
   "execution_count": 13,
   "metadata": {},
   "outputs": [],
   "source": [
    "def generatePlots(lp, a, b, c, possiblePlanes, dPlot = False):\n",
    "    \"generates a plot of peaks at 2theta or against dspacing\"\n",
    "    reciprocalBasis = findReciprocalBasis(a, b, c)\n",
    "    peaks = findPeaks(lp, possiblePlanes)[0]\n",
    "    if dPlot == False:\n",
    "        positions = findThetaPositions(peaks, reciprocalBasis)\n",
    "        y = [1 for i in range(len(positions))]\n",
    "        ThetaPlot = twoThetaPlot(positions, y)\n",
    "    else:\n",
    "        #this dspacing still needs some work\n",
    "        dPositions = findDspacing(peaks, reciprocalBasis)\n",
    "        y = [1 for i in range(len(dPositions))]\n",
    "        dSpacingPlot(dPositions, y)\n",
    "    return\n",
    "    "
   ]
  },
  {
   "cell_type": "markdown",
   "metadata": {},
   "source": [
    "## Lets test it!\n",
    "Below the generatePlots function is tested on a range of different crystals including:\n",
    "- CsCl    : Simple cubic\n",
    "- NaCl    : FCC rocksalt structure\n",
    "- Diamond : FCC diamond structure \n",
    "- Rutile  : Body Centered Tetragonal (I think)"
   ]
  },
  {
   "cell_type": "code",
   "execution_count": 14,
   "metadata": {},
   "outputs": [
    {
     "data": {
      "image/png": "[encoded data removed]",
      "text/plain": [
       "<Figure size 432x288 with 1 Axes>"
      ]
     },
     "metadata": {
      "needs_background": "light"
     },
     "output_type": "display_data"
    }
   ],
   "source": [
    "#lattice parameter / a float value given in nm\n",
    "#for CsCl\n",
    "a = np.array([0.4127, 0, 0])\n",
    "b = np.array([0, 0.4127, 0])\n",
    "c = np.array([0, 0, 0.4127])\n",
    "##lattice points / list of all lattice point\n",
    "lp = [(0, 0, 0)]\n",
    "\n",
    "generatePlots(lp, a, b, c, productList, dPlot = False)"
   ]
  },
  {
   "cell_type": "code",
   "execution_count": 15,
   "metadata": {},
   "outputs": [
    {
     "data": {
      "image/png": "[encoded data removed]",
      "text/plain": [
       "<Figure size 432x288 with 1 Axes>"
      ]
     },
     "metadata": {
      "needs_background": "light"
     },
     "output_type": "display_data"
    }
   ],
   "source": [
    "#for NaCl\n",
    "a = np.array([0.5667, 0, 0])\n",
    "b = np.array([0, 0.5667, 0])\n",
    "c = np.array([0, 0, 0.5667])\n",
    "lp = [(0, 0, 0), (1/2, 1/2, 0), (1/2, 0, 1/2), (0, 1/2, 1/2)]\n",
    "\n",
    "generatePlots(lp, a, b, c, productList, dPlot = False)"
   ]
  },
  {
   "cell_type": "code",
   "execution_count": 16,
   "metadata": {},
   "outputs": [
    {
     "data": {
      "image/png": "[encoded data removed]",
      "text/plain": [
       "<Figure size 432x288 with 1 Axes>"
      ]
     },
     "metadata": {
      "needs_background": "light"
     },
     "output_type": "display_data"
    }
   ],
   "source": [
    "# for diamond\n",
    "a = np.array([0.3567, 0, 0])\n",
    "b = np.array([0, 0.3567, 0])\n",
    "c = np.array([0, 0, 0.3567])\n",
    "lp = [(0, 0, 0), (1/2, 1/2, 0), (1/2, 0, 1/2), (0, 1/2, 1/2), (1/4, 1/4, 1/4), (3/4, 3/4, 1/4), (3/4, 1/4, 3/4), (1/4, 3/4, 3/4)]\n",
    "\n",
    "generatePlots(lp, a, b, c, productList, dPlot = False)"
   ]
  },
  {
   "cell_type": "code",
   "execution_count": 17,
   "metadata": {},
   "outputs": [
    {
     "data": {
      "image/png": "[encoded data removed]",
      "text/plain": [
       "<Figure size 432x288 with 1 Axes>"
      ]
     },
     "metadata": {
      "needs_background": "light"
     },
     "output_type": "display_data"
    }
   ],
   "source": [
    "# for rutile (not successful)\n",
    "a = np.array([0.4594, 0, 0])\n",
    "b = np.array([0, 0.4594, 0])\n",
    "c = np.array([0, 0, 0.2959])\n",
    "lp = [(0, 0, 0), (1/2, 1/2, 1/2)]\n",
    "\n",
    "generatePlots(lp, a, b, c, productList, dPlot = False)"
   ]
  },
  {
   "cell_type": "markdown",
   "metadata": {},
   "source": [
    "## Ideas for the future\n",
    "- Implement scattering factor into structure factor to get peaks of arying height\n",
    "- Implement a function to draw a bellcurve instead of relying on bar plots\n",
    "- Test out on more crystal systems, and get it properly working with tetragonal systems"
   ]
  },
  {
   "cell_type": "code",
   "execution_count": null,
   "metadata": {},
   "outputs": [],
   "source": []
  }
 ],
 "metadata": {
  "kernelspec": {
   "display_name": "Python 3",
   "language": "python",
   "name": "python3"
  },
  "language_info": {
   "codemirror_mode": {
    "name": "ipython",
    "version": 3
   },
   "file_extension": ".py",
   "mimetype": "text/x-python",
   "name": "python",
   "nbconvert_exporter": "python",
   "pygments_lexer": "ipython3",
   "version": "3.7.4"
  }
 },
 "nbformat": 4,
 "nbformat_minor": 2
}
